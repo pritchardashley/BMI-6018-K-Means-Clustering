{
 "cells": [
  {
   "cell_type": "code",
   "execution_count": null,
   "id": "8b933bd3-31c1-408d-8dc1-57214a685830",
   "metadata": {},
   "outputs": [],
   "source": [
    "#Using one of the three datasets to demonstrate k-means clustering using the scikit learn package (50 points). \n",
    "#Be sure to review the readings before you start on this assignment. Calculate the sum of least square error for each different values of 'k'. \n",
    "#Using Matplotlib determine the optimal number of clusters (k) using the elbow method along with a brief explanation (50 points) . \n",
    "#Finally plot the optimal clusters with their centroids along with a brief explanation (50 points). Comment your code as needed."
   ]
  },
  {
   "cell_type": "code",
   "execution_count": 1,
   "id": "7c7d8e90-8f21-4e61-8d49-25dd4f370175",
   "metadata": {},
   "outputs": [],
   "source": [
    "url_dataset = 'https://archive.ics.uci.edu/ml/datasets/Diabetes+130-US+hospitals+for+years+1999-2008'"
   ]
  },
  {
   "cell_type": "code",
   "execution_count": 2,
   "id": "e61fb296-993a-4ca6-98b0-2c0e51cb4153",
   "metadata": {
    "scrolled": true
   },
   "outputs": [
    {
     "name": "stdout",
     "output_type": "stream",
     "text": [
      "Requirement already satisfied: scikit-learn in /Library/Frameworks/Python.framework/Versions/3.12/lib/python3.12/site-packages (1.5.2)\n",
      "Requirement already satisfied: numpy>=1.19.5 in /Library/Frameworks/Python.framework/Versions/3.12/lib/python3.12/site-packages (from scikit-learn) (2.1.2)\n",
      "Requirement already satisfied: scipy>=1.6.0 in /Library/Frameworks/Python.framework/Versions/3.12/lib/python3.12/site-packages (from scikit-learn) (1.14.1)\n",
      "Requirement already satisfied: joblib>=1.2.0 in /Library/Frameworks/Python.framework/Versions/3.12/lib/python3.12/site-packages (from scikit-learn) (1.4.2)\n",
      "Requirement already satisfied: threadpoolctl>=3.1.0 in /Library/Frameworks/Python.framework/Versions/3.12/lib/python3.12/site-packages (from scikit-learn) (3.5.0)\n"
     ]
    }
   ],
   "source": [
    "#import and install\n",
    "\n",
    "!pip install scikit-learn"
   ]
  },
  {
   "cell_type": "code",
   "execution_count": 3,
   "id": "c2f8eee5-6be3-4a9a-8891-247787893936",
   "metadata": {},
   "outputs": [],
   "source": [
    "#import and install cont\n",
    "\n",
    "import numpy as np\n",
    "import pandas as pd\n",
    "import zipfile\n",
    "import matplotlib.pyplot as plt\n",
    "from sklearn.model_selection import train_test_split\n",
    "from sklearn import preprocessing\n",
    "from sklearn.cluster import KMeans\n",
    "from sklearn.preprocessing import StandardScaler"
   ]
  },
  {
   "cell_type": "code",
   "execution_count": 5,
   "id": "ed3aa4d8-dcf3-46a4-9c49-e22969504150",
   "metadata": {},
   "outputs": [
    {
     "data": {
      "text/html": [
       "<div>\n",
       "<style scoped>\n",
       "    .dataframe tbody tr th:only-of-type {\n",
       "        vertical-align: middle;\n",
       "    }\n",
       "\n",
       "    .dataframe tbody tr th {\n",
       "        vertical-align: top;\n",
       "    }\n",
       "\n",
       "    .dataframe thead th {\n",
       "        text-align: right;\n",
       "    }\n",
       "</style>\n",
       "<table border=\"1\" class=\"dataframe\">\n",
       "  <thead>\n",
       "    <tr style=\"text-align: right;\">\n",
       "      <th></th>\n",
       "      <th>recurrence</th>\n",
       "      <th>age</th>\n",
       "      <th>menopause</th>\n",
       "      <th>tumor-size</th>\n",
       "      <th>inv-nodes</th>\n",
       "      <th>node-caps</th>\n",
       "      <th>deg-malig</th>\n",
       "      <th>breast</th>\n",
       "      <th>breast-quad</th>\n",
       "      <th>irradiat</th>\n",
       "    </tr>\n",
       "  </thead>\n",
       "  <tbody>\n",
       "    <tr>\n",
       "      <th>0</th>\n",
       "      <td>no-recurrence-events</td>\n",
       "      <td>40-49</td>\n",
       "      <td>premeno</td>\n",
       "      <td>20-24</td>\n",
       "      <td>0-2</td>\n",
       "      <td>no</td>\n",
       "      <td>2</td>\n",
       "      <td>right</td>\n",
       "      <td>right_up</td>\n",
       "      <td>no</td>\n",
       "    </tr>\n",
       "    <tr>\n",
       "      <th>1</th>\n",
       "      <td>no-recurrence-events</td>\n",
       "      <td>40-49</td>\n",
       "      <td>premeno</td>\n",
       "      <td>20-24</td>\n",
       "      <td>0-2</td>\n",
       "      <td>no</td>\n",
       "      <td>2</td>\n",
       "      <td>left</td>\n",
       "      <td>left_low</td>\n",
       "      <td>no</td>\n",
       "    </tr>\n",
       "    <tr>\n",
       "      <th>2</th>\n",
       "      <td>no-recurrence-events</td>\n",
       "      <td>60-69</td>\n",
       "      <td>ge40</td>\n",
       "      <td>15-19</td>\n",
       "      <td>0-2</td>\n",
       "      <td>no</td>\n",
       "      <td>2</td>\n",
       "      <td>right</td>\n",
       "      <td>left_up</td>\n",
       "      <td>no</td>\n",
       "    </tr>\n",
       "    <tr>\n",
       "      <th>3</th>\n",
       "      <td>no-recurrence-events</td>\n",
       "      <td>40-49</td>\n",
       "      <td>premeno</td>\n",
       "      <td>0-4</td>\n",
       "      <td>0-2</td>\n",
       "      <td>no</td>\n",
       "      <td>2</td>\n",
       "      <td>right</td>\n",
       "      <td>right_low</td>\n",
       "      <td>no</td>\n",
       "    </tr>\n",
       "    <tr>\n",
       "      <th>4</th>\n",
       "      <td>no-recurrence-events</td>\n",
       "      <td>60-69</td>\n",
       "      <td>ge40</td>\n",
       "      <td>15-19</td>\n",
       "      <td>0-2</td>\n",
       "      <td>no</td>\n",
       "      <td>2</td>\n",
       "      <td>left</td>\n",
       "      <td>left_low</td>\n",
       "      <td>no</td>\n",
       "    </tr>\n",
       "  </tbody>\n",
       "</table>\n",
       "</div>"
      ],
      "text/plain": [
       "             recurrence    age menopause tumor-size inv-nodes node-caps  \\\n",
       "0  no-recurrence-events  40-49   premeno      20-24       0-2        no   \n",
       "1  no-recurrence-events  40-49   premeno      20-24       0-2        no   \n",
       "2  no-recurrence-events  60-69      ge40      15-19       0-2        no   \n",
       "3  no-recurrence-events  40-49   premeno        0-4       0-2        no   \n",
       "4  no-recurrence-events  60-69      ge40      15-19       0-2        no   \n",
       "\n",
       "   deg-malig breast breast-quad irradiat  \n",
       "0          2  right    right_up       no  \n",
       "1          2   left    left_low       no  \n",
       "2          2  right     left_up       no  \n",
       "3          2  right   right_low       no  \n",
       "4          2   left    left_low       no  "
      ]
     },
     "execution_count": 5,
     "metadata": {},
     "output_type": "execute_result"
    }
   ],
   "source": [
    "#import data\n",
    "\n",
    "data_set_used = 'https://archive.ics.uci.edu/dataset/14/breast+cancer'\n",
    "\n",
    "with zipfile.ZipFile('breast+cancer (1).zip', 'r') as zip_ref:\n",
    "    zip_ref.extractall()\n",
    "\n",
    "df = pd.read_csv('breast-cancer.data')\n",
    "\n",
    "df.columns = [\n",
    "    \"recurrence\", \"age\", \"menopause\", \"tumor-size\", \"inv-nodes\", \n",
    "    \"node-caps\", \"deg-malig\", \"breast\", \"breast-quad\", \"irradiat\"\n",
    "]\n",
    "df.head()"
   ]
  },
  {
   "cell_type": "code",
   "execution_count": 8,
   "id": "0089056f-7c53-4cbb-a70e-929ab0681ff2",
   "metadata": {},
   "outputs": [
    {
     "name": "stdout",
     "output_type": "stream",
     "text": [
      "Data without null values:\n",
      "     no-recurrence-events  30-39  premeno  30-34  0-2  no  3   left  \\\n",
      "0    no-recurrence-events  40-49  premeno  20-24  0-2  no  2  right   \n",
      "1    no-recurrence-events  40-49  premeno  20-24  0-2  no  2   left   \n",
      "2    no-recurrence-events  60-69     ge40  15-19  0-2  no  2  right   \n",
      "3    no-recurrence-events  40-49  premeno    0-4  0-2  no  2  right   \n",
      "4    no-recurrence-events  60-69     ge40  15-19  0-2  no  2   left   \n",
      "..                    ...    ...      ...    ...  ...  .. ..    ...   \n",
      "280     recurrence-events  30-39  premeno  30-34  0-2  no  2   left   \n",
      "281     recurrence-events  30-39  premeno  20-24  0-2  no  3   left   \n",
      "282     recurrence-events  60-69     ge40  20-24  0-2  no  1  right   \n",
      "283     recurrence-events  40-49     ge40  30-34  3-5  no  3   left   \n",
      "284     recurrence-events  50-59     ge40  30-34  3-5  no  3   left   \n",
      "\n",
      "      left_low no.1  \n",
      "0     right_up   no  \n",
      "1     left_low   no  \n",
      "2      left_up   no  \n",
      "3    right_low   no  \n",
      "4     left_low   no  \n",
      "..         ...  ...  \n",
      "280    left_up   no  \n",
      "281    left_up  yes  \n",
      "282    left_up   no  \n",
      "283   left_low   no  \n",
      "284   left_low   no  \n",
      "\n",
      "[285 rows x 10 columns]\n",
      "Data with numeric values only:\n",
      "     3\n",
      "0    2\n",
      "1    2\n",
      "2    2\n",
      "3    2\n",
      "4    2\n",
      "..  ..\n",
      "280  2\n",
      "281  3\n",
      "282  1\n",
      "283  3\n",
      "284  3\n",
      "\n",
      "[285 rows x 1 columns]\n"
     ]
    }
   ],
   "source": [
    "#clean up data\n",
    "\n",
    "dataset = pd.read_csv('breast-cancer.data')\n",
    "dataset.isnull().sum()  \n",
    "data_cleaned = dataset.dropna() \n",
    "\n",
    "print(\"Data without null values:\")\n",
    "print(data_cleaned)\n",
    "\n",
    "data_numbers = data_cleaned.select_dtypes(include=[np.number])\n",
    "\n",
    "print(\"Data with numeric values only:\")\n",
    "print(data_numbers)\n",
    "\n",
    "scaler = StandardScaler()\n",
    "data_scaled = scaler.fit_transform(data_numbers)\n"
   ]
  },
  {
   "cell_type": "code",
   "execution_count": null,
   "id": "0afea935-d464-4955-916f-32a87fe89a92",
   "metadata": {},
   "outputs": [],
   "source": [
    "#plot to determine optimal number of clusters\n",
    "\n",
    "square_errors = []\n",
    "k_range = range(1, 11)  # Try k from 1 to 10 clusters\n",
    "for k in k_range:\n",
    "    kmeans = KMeans(n_clusters=k, random_state=42)\n",
    "    kmeans.fit(data_scaled)\n",
    "    square_errors.append(kmeans.inertia_)\n",
    "\n",
    "plt.figure(figsize=(8, 6))\n",
    "plt.plot(k_range, square_errors, marker='o')\n",
    "plt.title('Optimal Number of Clusters Based on Squared Error')\n",
    "plt.xlabel('Number of clusters (k)')\n",
    "plt.ylabel('Sum of Squared Errors')\n",
    "plt.show()"
   ]
  },
  {
   "cell_type": "code",
   "execution_count": 9,
   "id": "17440523-adfa-4112-818f-1a00d625ca5c",
   "metadata": {},
   "outputs": [],
   "source": [
    "#Optimal number of clusters = 3\n",
    "\n",
    "#The optimal number of clusters (k) would be 3. The optimal number is 3 because 3 is where we see the lowest sum\n",
    "#of squared errors. Although 4, 5, 6, and so on have a very low sum of squared errors as well, the additional clusters do not\n",
    "#continue to decrease the error a significant amount if at all. Having a lower number of clusters results in a far\n",
    "#greater sum of standard error, hence why the optimal number is not less than 3."
   ]
  },
  {
   "cell_type": "code",
   "execution_count": 20,
   "id": "1561da3d-3e2d-4fab-aa91-95ce6255a9e1",
   "metadata": {},
   "outputs": [
    {
     "data": {
      "image/png": "[encoded data removed]",
      "text/plain": [
       "<Figure size 800x600 with 1 Axes>"
      ]
     },
     "metadata": {},
     "output_type": "display_data"
    }
   ],
   "source": [
    "#Plot the optimal clusters with their centroids\n",
    "\n",
    "if data_scaled.shape[1] == 1:\n",
    "    plt.figure(figsize=(8, 6))\n",
    "    \n",
    "    # Plot the clusters in 1D\n",
    "    plt.scatter(data_scaled[:, 0], np.zeros_like(data_scaled[:, 0]), c=kmeans_optimal.labels_, cmap='viridis', alpha=0.6)\n",
    "    \n",
    "    # Plot centroids (along the same 1D axis)\n",
    "    plt.scatter(kmeans_optimal.cluster_centers_[:, 0], np.zeros_like(kmeans_optimal.cluster_centers_[:, 0]), \n",
    "                marker='x', s=200, c='red', label='Centroids')\n",
    "    \n",
    "    plt.title('Plot with Optimal Number of Clusters')\n",
    "    plt.xlabel('Feature (scaled)')\n",
    "    plt.legend()\n",
    "    plt.show()\n"
   ]
  },
  {
   "cell_type": "code",
   "execution_count": null,
   "id": "a65e1d15-98ee-45bb-aa07-def13fb1622e",
   "metadata": {},
   "outputs": [],
   "source": [
    "#explination\n",
    "\n",
    "# When plotting the data and doing a K-means cluster with the optimal number of clusters\n",
    "# this is the output because there is only one feature that is being graphed due to the original\n",
    "# data cleaning. The feature that is being used is the degree of malignancy which is on a scale of 1-3.\n",
    "# With that in mind, it makes sense that the optimal number of clusters would be three \n",
    "# and that the centroids appear as though it is the only data point on the graph. Because the values graphed would be \n",
    "# integers 1, 2, or 3, it would appear that there is not much data variabiity. "
   ]
  }
 ],
 "metadata": {
  "kernelspec": {
   "display_name": "Python 3 (ipykernel)",
   "language": "python",
   "name": "python3"
  },
  "language_info": {
   "codemirror_mode": {
    "name": "ipython",
    "version": 3
   },
   "file_extension": ".py",
   "mimetype": "text/x-python",
   "name": "python",
   "nbconvert_exporter": "python",
   "pygments_lexer": "ipython3",
   "version": "3.12.5"
  }
 },
 "nbformat": 4,
 "nbformat_minor": 5
}
